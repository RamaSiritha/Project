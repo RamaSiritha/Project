{
  "nbformat": 4,
  "nbformat_minor": 0,
  "metadata": {
    "kernelspec": {
      "display_name": "Python 3",
      "language": "python",
      "name": "python3"
    },
    "language_info": {
      "codemirror_mode": {
        "name": "ipython",
        "version": 3
      },
      "file_extension": ".py",
      "mimetype": "text/x-python",
      "name": "python",
      "nbconvert_exporter": "python",
      "pygments_lexer": "ipython3",
      "version": "3.7.6"
    },
    "colab": {
      "name": "Final Project.ipynb",
      "provenance": [],
      "include_colab_link": true
    }
  },
  "cells": [
    {
      "cell_type": "markdown",
      "metadata": {
        "id": "view-in-github",
        "colab_type": "text"
      },
      "source": [
        "<a href=\"https://colab.research.google.com/github/RamaSiritha/Project/blob/main/Final_Project.ipynb\" target=\"_parent\"><img src=\"https://colab.research.google.com/assets/colab-badge.svg\" alt=\"Open In Colab\"/></a>"
      ]
    },
    {
      "cell_type": "code",
      "metadata": {
        "id": "Eo1iae_OJqGU",
        "colab": {
          "base_uri": "https://localhost:8080/"
        },
        "outputId": "6237fc89-fe09-4c9d-ade8-271e3315cbec"
      },
      "source": [
        "import numpy as np\n",
        "import pandas as pd\n",
        "import sklearn\n",
        "import statsmodels.api as sm\n",
        "from sklearn.preprocessing import LabelEncoder\n",
        "import matplotlib.pyplot as plt\n",
        "import seaborn as sns\n",
        "from sklearn.model_selection import train_test_split\n",
        "from sklearn.ensemble import RandomForestClassifier\n",
        "from sklearn.metrics import confusion_matrix, classification_report\n",
        "from sklearn.metrics import accuracy_score\n",
        "from sklearn.model_selection import GridSearchCV\n",
        "from sklearn.model_selection import RandomizedSearchCV\n",
        "from sklearn.model_selection import StratifiedKFold"
      ],
      "execution_count": 1,
      "outputs": [
        {
          "output_type": "stream",
          "name": "stderr",
          "text": [
            "/usr/local/lib/python3.7/dist-packages/statsmodels/tools/_testing.py:19: FutureWarning: pandas.util.testing is deprecated. Use the functions in the public API at pandas.testing instead.\n",
            "  import pandas.util.testing as tm\n"
          ]
        }
      ]
    },
    {
      "cell_type": "code",
      "metadata": {
        "id": "GhoOc5lzJqGb",
        "colab": {
          "base_uri": "https://localhost:8080/",
          "height": 206
        },
        "outputId": "d18c58cd-4cdf-4a22-a10d-bf1602d94bdf"
      },
      "source": [
        "df = pd.read_csv(\"/content/sample_data/Churn_Modelling.csv\",encoding = \"ISO-8859-1\")\n",
        "df.head()"
      ],
      "execution_count": 9,
      "outputs": [
        {
          "output_type": "execute_result",
          "data": {
            "text/html": [
              "<div>\n",
              "<style scoped>\n",
              "    .dataframe tbody tr th:only-of-type {\n",
              "        vertical-align: middle;\n",
              "    }\n",
              "\n",
              "    .dataframe tbody tr th {\n",
              "        vertical-align: top;\n",
              "    }\n",
              "\n",
              "    .dataframe thead th {\n",
              "        text-align: right;\n",
              "    }\n",
              "</style>\n",
              "<table border=\"1\" class=\"dataframe\">\n",
              "  <thead>\n",
              "    <tr style=\"text-align: right;\">\n",
              "      <th></th>\n",
              "      <th>RowNumber</th>\n",
              "      <th>CustomerId</th>\n",
              "      <th>Surname</th>\n",
              "      <th>CreditScore</th>\n",
              "      <th>Geography</th>\n",
              "      <th>Gender</th>\n",
              "      <th>Age</th>\n",
              "      <th>Tenure</th>\n",
              "      <th>Balance</th>\n",
              "      <th>NumOfProducts</th>\n",
              "      <th>HasCrCard</th>\n",
              "      <th>IsActiveMember</th>\n",
              "      <th>EstimatedSalary</th>\n",
              "      <th>Exited</th>\n",
              "    </tr>\n",
              "  </thead>\n",
              "  <tbody>\n",
              "    <tr>\n",
              "      <th>0</th>\n",
              "      <td>1</td>\n",
              "      <td>15634602</td>\n",
              "      <td>Hargrave</td>\n",
              "      <td>619</td>\n",
              "      <td>France</td>\n",
              "      <td>Female</td>\n",
              "      <td>42</td>\n",
              "      <td>2</td>\n",
              "      <td>0.00</td>\n",
              "      <td>1</td>\n",
              "      <td>1</td>\n",
              "      <td>1</td>\n",
              "      <td>101348.88</td>\n",
              "      <td>1</td>\n",
              "    </tr>\n",
              "    <tr>\n",
              "      <th>1</th>\n",
              "      <td>2</td>\n",
              "      <td>15647311</td>\n",
              "      <td>Hill</td>\n",
              "      <td>608</td>\n",
              "      <td>Spain</td>\n",
              "      <td>Female</td>\n",
              "      <td>41</td>\n",
              "      <td>1</td>\n",
              "      <td>83807.86</td>\n",
              "      <td>1</td>\n",
              "      <td>0</td>\n",
              "      <td>1</td>\n",
              "      <td>112542.58</td>\n",
              "      <td>0</td>\n",
              "    </tr>\n",
              "    <tr>\n",
              "      <th>2</th>\n",
              "      <td>3</td>\n",
              "      <td>15619304</td>\n",
              "      <td>Onio</td>\n",
              "      <td>502</td>\n",
              "      <td>France</td>\n",
              "      <td>Female</td>\n",
              "      <td>42</td>\n",
              "      <td>8</td>\n",
              "      <td>159660.80</td>\n",
              "      <td>3</td>\n",
              "      <td>1</td>\n",
              "      <td>0</td>\n",
              "      <td>113931.57</td>\n",
              "      <td>1</td>\n",
              "    </tr>\n",
              "    <tr>\n",
              "      <th>3</th>\n",
              "      <td>4</td>\n",
              "      <td>15701354</td>\n",
              "      <td>Boni</td>\n",
              "      <td>699</td>\n",
              "      <td>France</td>\n",
              "      <td>Female</td>\n",
              "      <td>39</td>\n",
              "      <td>1</td>\n",
              "      <td>0.00</td>\n",
              "      <td>2</td>\n",
              "      <td>0</td>\n",
              "      <td>0</td>\n",
              "      <td>93826.63</td>\n",
              "      <td>0</td>\n",
              "    </tr>\n",
              "    <tr>\n",
              "      <th>4</th>\n",
              "      <td>5</td>\n",
              "      <td>15737888</td>\n",
              "      <td>Mitchell</td>\n",
              "      <td>850</td>\n",
              "      <td>Spain</td>\n",
              "      <td>Female</td>\n",
              "      <td>43</td>\n",
              "      <td>2</td>\n",
              "      <td>125510.82</td>\n",
              "      <td>1</td>\n",
              "      <td>1</td>\n",
              "      <td>1</td>\n",
              "      <td>79084.10</td>\n",
              "      <td>0</td>\n",
              "    </tr>\n",
              "  </tbody>\n",
              "</table>\n",
              "</div>"
            ],
            "text/plain": [
              "   RowNumber  CustomerId   Surname  ...  IsActiveMember EstimatedSalary Exited\n",
              "0          1    15634602  Hargrave  ...               1       101348.88      1\n",
              "1          2    15647311      Hill  ...               1       112542.58      0\n",
              "2          3    15619304      Onio  ...               0       113931.57      1\n",
              "3          4    15701354      Boni  ...               0        93826.63      0\n",
              "4          5    15737888  Mitchell  ...               1        79084.10      0\n",
              "\n",
              "[5 rows x 14 columns]"
            ]
          },
          "metadata": {},
          "execution_count": 9
        }
      ]
    },
    {
      "cell_type": "code",
      "metadata": {
        "colab": {
          "base_uri": "https://localhost:8080/"
        },
        "id": "M7zx6XGkVgiH",
        "outputId": "5511162a-b6af-4842-e649-1357a8c2513a"
      },
      "source": [
        "df.isna().sum()"
      ],
      "execution_count": 10,
      "outputs": [
        {
          "output_type": "execute_result",
          "data": {
            "text/plain": [
              "RowNumber          0\n",
              "CustomerId         0\n",
              "Surname            0\n",
              "CreditScore        0\n",
              "Geography          0\n",
              "Gender             0\n",
              "Age                0\n",
              "Tenure             0\n",
              "Balance            0\n",
              "NumOfProducts      0\n",
              "HasCrCard          0\n",
              "IsActiveMember     0\n",
              "EstimatedSalary    0\n",
              "Exited             0\n",
              "dtype: int64"
            ]
          },
          "metadata": {},
          "execution_count": 10
        }
      ]
    },
    {
      "cell_type": "code",
      "metadata": {
        "id": "dXufp58XJqGe",
        "colab": {
          "base_uri": "https://localhost:8080/"
        },
        "outputId": "16d5ea95-b3d8-4ca7-f385-de58de8dadcd"
      },
      "source": [
        "df.nunique()"
      ],
      "execution_count": 11,
      "outputs": [
        {
          "output_type": "execute_result",
          "data": {
            "text/plain": [
              "RowNumber          10000\n",
              "CustomerId         10000\n",
              "Surname             2932\n",
              "CreditScore          460\n",
              "Geography              3\n",
              "Gender                 2\n",
              "Age                   70\n",
              "Tenure                11\n",
              "Balance             6382\n",
              "NumOfProducts          4\n",
              "HasCrCard              2\n",
              "IsActiveMember         2\n",
              "EstimatedSalary     9999\n",
              "Exited                 2\n",
              "dtype: int64"
            ]
          },
          "metadata": {},
          "execution_count": 11
        }
      ]
    },
    {
      "cell_type": "code",
      "metadata": {
        "id": "8uiQI7beJqGe"
      },
      "source": [
        "df = df.drop([\"RowNumber\", \"CustomerId\", \"Surname\"], axis = 1)"
      ],
      "execution_count": 12,
      "outputs": []
    },
    {
      "cell_type": "code",
      "metadata": {
        "id": "cYgshDJlJqGf",
        "colab": {
          "base_uri": "https://localhost:8080/",
          "height": 206
        },
        "outputId": "2f246f15-f401-45d6-9874-6568be040fb7"
      },
      "source": [
        "df.head()"
      ],
      "execution_count": 13,
      "outputs": [
        {
          "output_type": "execute_result",
          "data": {
            "text/html": [
              "<div>\n",
              "<style scoped>\n",
              "    .dataframe tbody tr th:only-of-type {\n",
              "        vertical-align: middle;\n",
              "    }\n",
              "\n",
              "    .dataframe tbody tr th {\n",
              "        vertical-align: top;\n",
              "    }\n",
              "\n",
              "    .dataframe thead th {\n",
              "        text-align: right;\n",
              "    }\n",
              "</style>\n",
              "<table border=\"1\" class=\"dataframe\">\n",
              "  <thead>\n",
              "    <tr style=\"text-align: right;\">\n",
              "      <th></th>\n",
              "      <th>CreditScore</th>\n",
              "      <th>Geography</th>\n",
              "      <th>Gender</th>\n",
              "      <th>Age</th>\n",
              "      <th>Tenure</th>\n",
              "      <th>Balance</th>\n",
              "      <th>NumOfProducts</th>\n",
              "      <th>HasCrCard</th>\n",
              "      <th>IsActiveMember</th>\n",
              "      <th>EstimatedSalary</th>\n",
              "      <th>Exited</th>\n",
              "    </tr>\n",
              "  </thead>\n",
              "  <tbody>\n",
              "    <tr>\n",
              "      <th>0</th>\n",
              "      <td>619</td>\n",
              "      <td>France</td>\n",
              "      <td>Female</td>\n",
              "      <td>42</td>\n",
              "      <td>2</td>\n",
              "      <td>0.00</td>\n",
              "      <td>1</td>\n",
              "      <td>1</td>\n",
              "      <td>1</td>\n",
              "      <td>101348.88</td>\n",
              "      <td>1</td>\n",
              "    </tr>\n",
              "    <tr>\n",
              "      <th>1</th>\n",
              "      <td>608</td>\n",
              "      <td>Spain</td>\n",
              "      <td>Female</td>\n",
              "      <td>41</td>\n",
              "      <td>1</td>\n",
              "      <td>83807.86</td>\n",
              "      <td>1</td>\n",
              "      <td>0</td>\n",
              "      <td>1</td>\n",
              "      <td>112542.58</td>\n",
              "      <td>0</td>\n",
              "    </tr>\n",
              "    <tr>\n",
              "      <th>2</th>\n",
              "      <td>502</td>\n",
              "      <td>France</td>\n",
              "      <td>Female</td>\n",
              "      <td>42</td>\n",
              "      <td>8</td>\n",
              "      <td>159660.80</td>\n",
              "      <td>3</td>\n",
              "      <td>1</td>\n",
              "      <td>0</td>\n",
              "      <td>113931.57</td>\n",
              "      <td>1</td>\n",
              "    </tr>\n",
              "    <tr>\n",
              "      <th>3</th>\n",
              "      <td>699</td>\n",
              "      <td>France</td>\n",
              "      <td>Female</td>\n",
              "      <td>39</td>\n",
              "      <td>1</td>\n",
              "      <td>0.00</td>\n",
              "      <td>2</td>\n",
              "      <td>0</td>\n",
              "      <td>0</td>\n",
              "      <td>93826.63</td>\n",
              "      <td>0</td>\n",
              "    </tr>\n",
              "    <tr>\n",
              "      <th>4</th>\n",
              "      <td>850</td>\n",
              "      <td>Spain</td>\n",
              "      <td>Female</td>\n",
              "      <td>43</td>\n",
              "      <td>2</td>\n",
              "      <td>125510.82</td>\n",
              "      <td>1</td>\n",
              "      <td>1</td>\n",
              "      <td>1</td>\n",
              "      <td>79084.10</td>\n",
              "      <td>0</td>\n",
              "    </tr>\n",
              "  </tbody>\n",
              "</table>\n",
              "</div>"
            ],
            "text/plain": [
              "   CreditScore Geography  Gender  ...  IsActiveMember  EstimatedSalary  Exited\n",
              "0          619    France  Female  ...               1        101348.88       1\n",
              "1          608     Spain  Female  ...               1        112542.58       0\n",
              "2          502    France  Female  ...               0        113931.57       1\n",
              "3          699    France  Female  ...               0         93826.63       0\n",
              "4          850     Spain  Female  ...               1         79084.10       0\n",
              "\n",
              "[5 rows x 11 columns]"
            ]
          },
          "metadata": {},
          "execution_count": 13
        }
      ]
    },
    {
      "cell_type": "code",
      "metadata": {
        "id": "FiWWnBbQJqGg",
        "colab": {
          "base_uri": "https://localhost:8080/"
        },
        "outputId": "21640b65-a616-47b5-b67a-a5527b846e9e"
      },
      "source": [
        "df.dtypes"
      ],
      "execution_count": 15,
      "outputs": [
        {
          "output_type": "execute_result",
          "data": {
            "text/plain": [
              "CreditScore          int64\n",
              "Geography           object\n",
              "Gender              object\n",
              "Age                  int64\n",
              "Tenure               int64\n",
              "Balance            float64\n",
              "NumOfProducts        int64\n",
              "HasCrCard            int64\n",
              "IsActiveMember       int64\n",
              "EstimatedSalary    float64\n",
              "Exited               int64\n",
              "dtype: object"
            ]
          },
          "metadata": {},
          "execution_count": 15
        }
      ]
    },
    {
      "cell_type": "code",
      "metadata": {
        "id": "PtkxpRQ7JqGh"
      },
      "source": [
        "for column in df.columns:\n",
        "    if df[column].dtype == type(object):\n",
        "        le = LabelEncoder()\n",
        "        df[column] = le.fit_transform(df[column])"
      ],
      "execution_count": 16,
      "outputs": []
    },
    {
      "cell_type": "code",
      "metadata": {
        "id": "MtiJMIkyJqGi",
        "colab": {
          "base_uri": "https://localhost:8080/"
        },
        "outputId": "37099613-40fc-4e8f-b1ac-11e07b5169df"
      },
      "source": [
        "df.dtypes"
      ],
      "execution_count": 17,
      "outputs": [
        {
          "output_type": "execute_result",
          "data": {
            "text/plain": [
              "CreditScore          int64\n",
              "Geography            int64\n",
              "Gender               int64\n",
              "Age                  int64\n",
              "Tenure               int64\n",
              "Balance            float64\n",
              "NumOfProducts        int64\n",
              "HasCrCard            int64\n",
              "IsActiveMember       int64\n",
              "EstimatedSalary    float64\n",
              "Exited               int64\n",
              "dtype: object"
            ]
          },
          "metadata": {},
          "execution_count": 17
        }
      ]
    },
    {
      "cell_type": "code",
      "metadata": {
        "colab": {
          "base_uri": "https://localhost:8080/",
          "height": 264
        },
        "id": "bCoIOGAvL72C",
        "outputId": "5ee6996d-39f7-4152-b333-c3d6b1dc6794"
      },
      "source": [
        "l = 'Exited', 'Retained'\n",
        "sizes = [df.Exited[df['Exited']==1].count(), df.Exited[df['Exited']==0].count()]\n",
        "plt.pie(sizes, labels=l, autopct='%1.1f%%',\n",
        "        shadow=True, startangle=90)\n",
        "plt.title(\"Proportion of customer churned and retained\")\n",
        "plt.show()"
      ],
      "execution_count": 18,
      "outputs": [
        {
          "output_type": "display_data",
          "data": {
            "image/png": "[encoded data removed]",
            "text/plain": [
              "<Figure size 432x288 with 1 Axes>"
            ]
          },
          "metadata": {}
        }
      ]
    },
    {
      "cell_type": "code",
      "metadata": {
        "colab": {
          "base_uri": "https://localhost:8080/",
          "height": 591
        },
        "id": "xTrFtIEeMBab",
        "outputId": "592564ce-99c7-4d84-f43d-49a374ce82ef"
      },
      "source": [
        "d= df[['Gender','Age', 'Tenure', 'Geography', 'Balance', 'NumOfProducts', 'HasCrCard','IsActiveMember']]\n",
        "\n",
        "chart= plt.figure(figsize=(12,12))\n",
        "plt.suptitle(\"Histogram for Data Analysis\\n\", horizontalalignment=\"center\", fontstyle=\"normal\", fontsize = 20)\n",
        "for i in range(d.shape[1]):\n",
        "  plt.subplot(6,2,i+1)\n",
        "  f=plt.gca()\n",
        "  f.set_title(d.columns.values[i])\n",
        "  val=np.size(d.iloc[:,i])\n",
        "  if(val>100):\n",
        "    val=100\n",
        "  \n",
        "  plt.hist(d.iloc[:,i], bins=val, color='green')\n",
        "  plt.tight_layout(rect=[0, 0.03, 1, 0.95])"
      ],
      "execution_count": 19,
      "outputs": [
        {
          "output_type": "display_data",
          "data": {
            "image/png": "[encoded data removed]",
            "text/plain": [
              "<Figure size 864x864 with 8 Axes>"
            ]
          },
          "metadata": {
            "needs_background": "light"
          }
        }
      ]
    },
    {
      "cell_type": "markdown",
      "metadata": {
        "id": "7eh3_6dD3n54"
      },
      "source": [
        "Observations:\n",
        "\n",
        "Gender- Both male and female are almost equal, we have a bit more number\n",
        "of records in the dataset that are males.\n",
        "\n",
        "Age-Most of the customers are in between the age 30 to 40.\n",
        "\n",
        "Tenure-The tenure mostly isfrom 1 yr to 9 yrs.\n",
        "\n",
        "Geography- Most of the customers in the dataset are from france, then \n",
        "spain and germany.\n",
        "\n",
        "Balance- Most of the customers are having less balance, and some have \n",
        "between 1000000 to 150000.\n",
        "\n",
        "Num of products- Most of the customers have 1 or 2 products\n",
        "\n",
        "Has credit card-The customers having credit card are more than the no.\n",
        "\n",
        "Is Active member- The customers who are active and not active are almost\n",
        "equal.\n"
      ]
    },
    {
      "cell_type": "code",
      "metadata": {
        "colab": {
          "base_uri": "https://localhost:8080/",
          "height": 312
        },
        "id": "w4yMb2EiMWpZ",
        "outputId": "51936e96-7406-4641-c00e-8dcb0fde93fc"
      },
      "source": [
        "sns.countplot(x='Gender', hue = 'Exited', data = df).set_title('Number of people exited according to Gender Column')"
      ],
      "execution_count": 21,
      "outputs": [
        {
          "output_type": "execute_result",
          "data": {
            "text/plain": [
              "Text(0.5, 1.0, 'Number of people exited according to Gender Column')"
            ]
          },
          "metadata": {},
          "execution_count": 21
        },
        {
          "output_type": "display_data",
          "data": {
            "image/png": "[encoded data removed]",
            "text/plain": [
              "<Figure size 432x288 with 1 Axes>"
            ]
          },
          "metadata": {
            "needs_background": "light"
          }
        }
      ]
    },
    {
      "cell_type": "code",
      "metadata": {
        "colab": {
          "base_uri": "https://localhost:8080/",
          "height": 312
        },
        "id": "Rf1mnoPTMjUe",
        "outputId": "e91ab6ce-d6d6-4503-8b8d-7f798e80e333"
      },
      "source": [
        "sns.countplot(x='Age', hue = 'Exited', data = churn_data).set_title('Number of people exited according to Age Column')"
      ],
      "execution_count": 23,
      "outputs": [
        {
          "output_type": "execute_result",
          "data": {
            "text/plain": [
              "Text(0.5, 1.0, 'Number of people exited according to Age Column')"
            ]
          },
          "metadata": {},
          "execution_count": 23
        },
        {
          "output_type": "display_data",
          "data": {
            "image/png": "[encoded data removed]",
            "text/plain": [
              "<Figure size 432x288 with 1 Axes>"
            ]
          },
          "metadata": {
            "needs_background": "light"
          }
        }
      ]
    },
    {
      "cell_type": "code",
      "metadata": {
        "colab": {
          "base_uri": "https://localhost:8080/",
          "height": 312
        },
        "id": "wh2nRQE7MmLO",
        "outputId": "5f5b7875-b85a-4d92-fee3-3df2ed701465"
      },
      "source": [
        "sns.countplot(x='Tenure', hue = 'Exited', data = churn_data).set_title('Number of people exited according to Tenure Column')"
      ],
      "execution_count": 24,
      "outputs": [
        {
          "output_type": "execute_result",
          "data": {
            "text/plain": [
              "Text(0.5, 1.0, 'Number of people exited according to Tenure Column')"
            ]
          },
          "metadata": {},
          "execution_count": 24
        },
        {
          "output_type": "display_data",
          "data": {
            "image/png": "[encoded data removed]",
            "text/plain": [
              "<Figure size 432x288 with 1 Axes>"
            ]
          },
          "metadata": {
            "needs_background": "light"
          }
        }
      ]
    },
    {
      "cell_type": "code",
      "metadata": {
        "colab": {
          "base_uri": "https://localhost:8080/",
          "height": 312
        },
        "id": "NwvAv_PXMrT_",
        "outputId": "b68d335b-bd40-471b-dbf2-6f0c36f1cc64"
      },
      "source": [
        "sns.countplot(x='Geography', hue = 'Exited', data = churn_data).set_title('Number of people exited according to Geography Column')"
      ],
      "execution_count": 25,
      "outputs": [
        {
          "output_type": "execute_result",
          "data": {
            "text/plain": [
              "Text(0.5, 1.0, 'Number of people exited according to Geography Column')"
            ]
          },
          "metadata": {},
          "execution_count": 25
        },
        {
          "output_type": "display_data",
          "data": {
            "image/png": "[encoded data removed]",
            "text/plain": [
              "<Figure size 432x288 with 1 Axes>"
            ]
          },
          "metadata": {
            "needs_background": "light"
          }
        }
      ]
    },
    {
      "cell_type": "code",
      "metadata": {
        "colab": {
          "base_uri": "https://localhost:8080/",
          "height": 312
        },
        "id": "NKQSQMIVMvim",
        "outputId": "ae167bd1-ca50-4ed6-e3e8-f08414bfb9da"
      },
      "source": [
        "sns.countplot(x='NumOfProducts', hue = 'Exited', data = churn_data).set_title('Number of people exited according to NumofProducts Column')"
      ],
      "execution_count": 26,
      "outputs": [
        {
          "output_type": "execute_result",
          "data": {
            "text/plain": [
              "Text(0.5, 1.0, 'Number of people exited according to NumofProducts Column')"
            ]
          },
          "metadata": {},
          "execution_count": 26
        },
        {
          "output_type": "display_data",
          "data": {
            "image/png": "[encoded data removed]",
            "text/plain": [
              "<Figure size 432x288 with 1 Axes>"
            ]
          },
          "metadata": {
            "needs_background": "light"
          }
        }
      ]
    },
    {
      "cell_type": "code",
      "metadata": {
        "colab": {
          "base_uri": "https://localhost:8080/",
          "height": 312
        },
        "id": "PVwVUoZqMz6H",
        "outputId": "427c9775-f1d7-4f55-b98b-eb09a2cd1cfd"
      },
      "source": [
        "sns.countplot(x='HasCrCard', hue = 'Exited', data = churn_data).set_title('Number of people exited according to HasCrCard Column')"
      ],
      "execution_count": 27,
      "outputs": [
        {
          "output_type": "execute_result",
          "data": {
            "text/plain": [
              "Text(0.5, 1.0, 'Number of people exited according to HasCrCard Column')"
            ]
          },
          "metadata": {},
          "execution_count": 27
        },
        {
          "output_type": "display_data",
          "data": {
            "image/png": "[encoded data removed]",
            "text/plain": [
              "<Figure size 432x288 with 1 Axes>"
            ]
          },
          "metadata": {
            "needs_background": "light"
          }
        }
      ]
    },
    {
      "cell_type": "code",
      "metadata": {
        "colab": {
          "base_uri": "https://localhost:8080/",
          "height": 312
        },
        "id": "QZXsXqM3M4MR",
        "outputId": "e6f38d7d-c6d0-4f90-a968-f610dd77c66d"
      },
      "source": [
        "sns.countplot(x='IsActiveMember', hue = 'Exited', data = churn_data).set_title('Number of people exited according to IsActiveMember Column')"
      ],
      "execution_count": 28,
      "outputs": [
        {
          "output_type": "execute_result",
          "data": {
            "text/plain": [
              "Text(0.5, 1.0, 'Number of people exited according to IsActiveMember Column')"
            ]
          },
          "metadata": {},
          "execution_count": 28
        },
        {
          "output_type": "display_data",
          "data": {
            "image/png": "[encoded data removed]",
            "text/plain": [
              "<Figure size 432x288 with 1 Axes>"
            ]
          },
          "metadata": {
            "needs_background": "light"
          }
        }
      ]
    },
    {
      "cell_type": "markdown",
      "metadata": {
        "id": "yjiQR_h_71Jz"
      },
      "source": [
        "Observations from the analysis done on number of people exited and retained:\n",
        "\n",
        "Number of people exited are greater in females.\n",
        "\n",
        "Number of people exited are higher in between the age 38-45.\n",
        "\n",
        "Number of people exited are mostly equal from 1 yr to 9 yrs.\n",
        "\n",
        "Number of people exited are greater in France and Germany, then in Spain.\n",
        "\n",
        "Number of people exited are greater who have only 1 product.\n",
        "\n",
        "Number of people exited are greater in people having credit cards.\n",
        "\n",
        "Number of people exited are greater who are not much active."
      ]
    },
    {
      "cell_type": "code",
      "metadata": {
        "id": "Shi8k83mJqGk",
        "colab": {
          "base_uri": "https://localhost:8080/",
          "height": 576
        },
        "outputId": "95add43c-f04c-491a-ac2c-5352ab8339d8"
      },
      "source": [
        "plt.figure(figsize=(14,8))\n",
        "sns.heatmap(df.corr(), cmap =\"RdYlGn_r\", linewidths = 0.1, annot=True) "
      ],
      "execution_count": 29,
      "outputs": [
        {
          "output_type": "execute_result",
          "data": {
            "text/plain": [
              "<matplotlib.axes._subplots.AxesSubplot at 0x7f3094271910>"
            ]
          },
          "metadata": {},
          "execution_count": 29
        },
        {
          "output_type": "display_data",
          "data": {
            "image/png": "[encoded data removed]",
            "text/plain": [
              "<Figure size 1008x576 with 2 Axes>"
            ]
          },
          "metadata": {
            "needs_background": "light"
          }
        }
      ]
    },
    {
      "cell_type": "code",
      "metadata": {
        "id": "06uwRUo5JqGm"
      },
      "source": [
        ""
      ],
      "execution_count": null,
      "outputs": []
    },
    {
      "cell_type": "code",
      "metadata": {
        "id": "2kQPtyPKJqGm"
      },
      "source": [
        ""
      ],
      "execution_count": null,
      "outputs": []
    },
    {
      "cell_type": "code",
      "metadata": {
        "id": "mHCOTLSNJqGm"
      },
      "source": [
        "X_vars = df.drop('Exited', axis=1)\n",
        "X_vars = sm.add_constant(X_vars)\n",
        "y = df['Exited']\n",
        "X_vars_train, X_vars_test, y_train, y_test = train_test_split(X_vars, y, test_size=0.25, random_state=11)"
      ],
      "execution_count": 30,
      "outputs": []
    },
    {
      "cell_type": "code",
      "metadata": {
        "id": "zFblaas_JqGn",
        "colab": {
          "base_uri": "https://localhost:8080/",
          "height": 206
        },
        "outputId": "1a6bdad3-0cfa-429b-f0d8-ec5d11dca717"
      },
      "source": [
        "X_vars.head()"
      ],
      "execution_count": 31,
      "outputs": [
        {
          "output_type": "execute_result",
          "data": {
            "text/html": [
              "<div>\n",
              "<style scoped>\n",
              "    .dataframe tbody tr th:only-of-type {\n",
              "        vertical-align: middle;\n",
              "    }\n",
              "\n",
              "    .dataframe tbody tr th {\n",
              "        vertical-align: top;\n",
              "    }\n",
              "\n",
              "    .dataframe thead th {\n",
              "        text-align: right;\n",
              "    }\n",
              "</style>\n",
              "<table border=\"1\" class=\"dataframe\">\n",
              "  <thead>\n",
              "    <tr style=\"text-align: right;\">\n",
              "      <th></th>\n",
              "      <th>const</th>\n",
              "      <th>CreditScore</th>\n",
              "      <th>Geography</th>\n",
              "      <th>Gender</th>\n",
              "      <th>Age</th>\n",
              "      <th>Tenure</th>\n",
              "      <th>Balance</th>\n",
              "      <th>NumOfProducts</th>\n",
              "      <th>HasCrCard</th>\n",
              "      <th>IsActiveMember</th>\n",
              "      <th>EstimatedSalary</th>\n",
              "    </tr>\n",
              "  </thead>\n",
              "  <tbody>\n",
              "    <tr>\n",
              "      <th>0</th>\n",
              "      <td>1.0</td>\n",
              "      <td>619</td>\n",
              "      <td>0</td>\n",
              "      <td>0</td>\n",
              "      <td>42</td>\n",
              "      <td>2</td>\n",
              "      <td>0.00</td>\n",
              "      <td>1</td>\n",
              "      <td>1</td>\n",
              "      <td>1</td>\n",
              "      <td>101348.88</td>\n",
              "    </tr>\n",
              "    <tr>\n",
              "      <th>1</th>\n",
              "      <td>1.0</td>\n",
              "      <td>608</td>\n",
              "      <td>2</td>\n",
              "      <td>0</td>\n",
              "      <td>41</td>\n",
              "      <td>1</td>\n",
              "      <td>83807.86</td>\n",
              "      <td>1</td>\n",
              "      <td>0</td>\n",
              "      <td>1</td>\n",
              "      <td>112542.58</td>\n",
              "    </tr>\n",
              "    <tr>\n",
              "      <th>2</th>\n",
              "      <td>1.0</td>\n",
              "      <td>502</td>\n",
              "      <td>0</td>\n",
              "      <td>0</td>\n",
              "      <td>42</td>\n",
              "      <td>8</td>\n",
              "      <td>159660.80</td>\n",
              "      <td>3</td>\n",
              "      <td>1</td>\n",
              "      <td>0</td>\n",
              "      <td>113931.57</td>\n",
              "    </tr>\n",
              "    <tr>\n",
              "      <th>3</th>\n",
              "      <td>1.0</td>\n",
              "      <td>699</td>\n",
              "      <td>0</td>\n",
              "      <td>0</td>\n",
              "      <td>39</td>\n",
              "      <td>1</td>\n",
              "      <td>0.00</td>\n",
              "      <td>2</td>\n",
              "      <td>0</td>\n",
              "      <td>0</td>\n",
              "      <td>93826.63</td>\n",
              "    </tr>\n",
              "    <tr>\n",
              "      <th>4</th>\n",
              "      <td>1.0</td>\n",
              "      <td>850</td>\n",
              "      <td>2</td>\n",
              "      <td>0</td>\n",
              "      <td>43</td>\n",
              "      <td>2</td>\n",
              "      <td>125510.82</td>\n",
              "      <td>1</td>\n",
              "      <td>1</td>\n",
              "      <td>1</td>\n",
              "      <td>79084.10</td>\n",
              "    </tr>\n",
              "  </tbody>\n",
              "</table>\n",
              "</div>"
            ],
            "text/plain": [
              "   const  CreditScore  Geography  ...  HasCrCard  IsActiveMember  EstimatedSalary\n",
              "0    1.0          619          0  ...          1               1        101348.88\n",
              "1    1.0          608          2  ...          0               1        112542.58\n",
              "2    1.0          502          0  ...          1               0        113931.57\n",
              "3    1.0          699          0  ...          0               0         93826.63\n",
              "4    1.0          850          2  ...          1               1         79084.10\n",
              "\n",
              "[5 rows x 11 columns]"
            ]
          },
          "metadata": {},
          "execution_count": 31
        }
      ]
    },
    {
      "cell_type": "code",
      "metadata": {
        "id": "O-hm6qY1JqGn"
      },
      "source": [
        ""
      ],
      "execution_count": null,
      "outputs": []
    },
    {
      "cell_type": "code",
      "metadata": {
        "id": "X4MwBh02JqGn",
        "colab": {
          "base_uri": "https://localhost:8080/"
        },
        "outputId": "34e68c38-1fd0-477e-8384-0c7979eba370"
      },
      "source": [
        "mod = sm.OLS(y, X_vars)\n",
        "res = mod.fit()\n",
        "print(res.summary())"
      ],
      "execution_count": 32,
      "outputs": [
        {
          "output_type": "stream",
          "name": "stdout",
          "text": [
            "                            OLS Regression Results                            \n",
            "==============================================================================\n",
            "Dep. Variable:                 Exited   R-squared:                       0.136\n",
            "Model:                            OLS   Adj. R-squared:                  0.136\n",
            "Method:                 Least Squares   F-statistic:                     157.9\n",
            "Date:                Fri, 03 Dec 2021   Prob (F-statistic):          4.68e-309\n",
            "Time:                        21:31:45   Log-Likelihood:                -4361.3\n",
            "No. Observations:               10000   AIC:                             8745.\n",
            "Df Residuals:                    9989   BIC:                             8824.\n",
            "Df Model:                          10                                         \n",
            "Covariance Type:            nonrobust                                         \n",
            "===================================================================================\n",
            "                      coef    std err          t      P>|t|      [0.025      0.975]\n",
            "-----------------------------------------------------------------------------------\n",
            "const              -0.1083      0.034     -3.192      0.001      -0.175      -0.042\n",
            "CreditScore     -9.333e-05   3.88e-05     -2.408      0.016      -0.000   -1.73e-05\n",
            "Geography           0.0116      0.005      2.551      0.011       0.003       0.020\n",
            "Gender             -0.0774      0.008    -10.282      0.000      -0.092      -0.063\n",
            "Age                 0.0113      0.000     31.453      0.000       0.011       0.012\n",
            "Tenure             -0.0019      0.001     -1.439      0.150      -0.004       0.001\n",
            "Balance          6.819e-07   6.32e-08     10.788      0.000    5.58e-07    8.06e-07\n",
            "NumOfProducts      -0.0047      0.007     -0.698      0.485      -0.018       0.009\n",
            "HasCrCard          -0.0028      0.008     -0.341      0.733      -0.019       0.013\n",
            "IsActiveMember     -0.1433      0.008    -19.034      0.000      -0.158      -0.129\n",
            "EstimatedSalary  7.161e-08   6.51e-08      1.099      0.272   -5.61e-08    1.99e-07\n",
            "==============================================================================\n",
            "Omnibus:                     1510.180   Durbin-Watson:                   1.995\n",
            "Prob(Omnibus):                  0.000   Jarque-Bera (JB):             2312.781\n",
            "Skew:                           1.175   Prob(JB):                         0.00\n",
            "Kurtosis:                       3.175   Cond. No.                     1.27e+06\n",
            "==============================================================================\n",
            "\n",
            "Warnings:\n",
            "[1] Standard Errors assume that the covariance matrix of the errors is correctly specified.\n",
            "[2] The condition number is large, 1.27e+06. This might indicate that there are\n",
            "strong multicollinearity or other numerical problems.\n"
          ]
        }
      ]
    },
    {
      "cell_type": "markdown",
      "metadata": {
        "id": "15qFSkFlJqGo"
      },
      "source": [
        "### Features we got from OLS Regression"
      ]
    },
    {
      "cell_type": "markdown",
      "metadata": {
        "id": "cIbZm1XcJqGq"
      },
      "source": [
        "| Feature | p-value |\n",
        "| --- | --- |\n",
        "| CreditScore | 0.016 |\n",
        "| Geography | 0.011 |\n",
        "| Gender | 0.000 |\n",
        "| Age | 0.000 |\n",
        "| Balance | 0.000 |\n",
        "| IsActiveMember | 0.000 |\n",
        "| constant | 0.001 |"
      ]
    },
    {
      "cell_type": "markdown",
      "metadata": {
        "id": "4T2l8s3iJqGr"
      },
      "source": [
        "# Notes - \n",
        "##### 1. R-squared close to 1 and R-squared close to Adjusted R-square indicates that the features are relevant to target.\n",
        "##### 2. Intercept only model: constant column with no other column\n",
        "##### 3. Specified model: All the features i.e., all the columns other than constant column.\n",
        "##### 4. Null-Hypothesis:(In case of F-Statistic): These 2 models are equal.\n",
        "##### 5. Alternate Hypothesis: Intercept only model is worse than specified model(our model).\n",
        "\n",
        "### F-statistic:\n",
        "##### 1. If p-value is close to 0 and f-statistic value is really large then we can reject null hypothesis.\n",
        "##### 2. In our case p-value is close to 0 and f-statistic value is large but not that large. We can reject null hypothesis i.e., the specified model(our model) fits the data better than the intercept only model(model with no columns/features except for constants). \n",
        "\n",
        "##### 3. f-statistic >1, p-value close to 0 and p- value < 0.05 indicates that the features are closely related to the target variable.\n",
        "\n",
        "### T-statistic:\n",
        "##### 1. Null-Hypothesis: the corresponding features coefficient value is going to be equal to 0.\n",
        "##### 2. Alternate-Hypothesis: the corresponding features coefficient value will not be equal to 0.\n",
        "##### 3. Here P>|t| means p-value of t-test\n",
        "##### 4. Here t means t-value\n",
        "##### 5. The higher the t-value the greater the chances that you reject the null hypothesis & you accept the alternate hypothesis.\n",
        "##### 6. If p-value is lower (i.e., p<0.05) then we reject the null hypothesis.\n",
        "##### 7. Rejecting null hypothesis means the coefficient value is non-zero.\n",
        "##### 8. Accepting null hypothesis means the coefficient value of a feature will be 0 i.e., feature will be irrelevant.\n"
      ]
    },
    {
      "cell_type": "code",
      "metadata": {
        "id": "aeRKKQrwJqGs",
        "colab": {
          "base_uri": "https://localhost:8080/"
        },
        "outputId": "1bea8f4f-dd39-421f-c743-90fe117b0798"
      },
      "source": [
        "mod = sm.Logit(y, X_vars)\n",
        "res = mod.fit()\n",
        "print(res.summary())"
      ],
      "execution_count": 33,
      "outputs": [
        {
          "output_type": "stream",
          "name": "stdout",
          "text": [
            "Optimization terminated successfully.\n",
            "         Current function value: 0.434991\n",
            "         Iterations 6\n",
            "                           Logit Regression Results                           \n",
            "==============================================================================\n",
            "Dep. Variable:                 Exited   No. Observations:                10000\n",
            "Model:                          Logit   Df Residuals:                     9989\n",
            "Method:                           MLE   Df Model:                           10\n",
            "Date:                Fri, 03 Dec 2021   Pseudo R-squ.:                  0.1395\n",
            "Time:                        21:32:00   Log-Likelihood:                -4349.9\n",
            "converged:                       True   LL-Null:                       -5054.9\n",
            "Covariance Type:            nonrobust   LLR p-value:                7.035e-297\n",
            "===================================================================================\n",
            "                      coef    std err          z      P>|z|      [0.025      0.975]\n",
            "-----------------------------------------------------------------------------------\n",
            "const              -3.5210      0.242    -14.527      0.000      -3.996      -3.046\n",
            "CreditScore        -0.0007      0.000     -2.377      0.017      -0.001      -0.000\n",
            "Geography           0.0852      0.033      2.580      0.010       0.020       0.150\n",
            "Gender             -0.5432      0.054    -10.061      0.000      -0.649      -0.437\n",
            "Age                 0.0728      0.003     28.513      0.000       0.068       0.078\n",
            "Tenure             -0.0146      0.009     -1.575      0.115      -0.033       0.004\n",
            "Balance          4.969e-06   4.61e-07     10.774      0.000    4.06e-06    5.87e-06\n",
            "NumOfProducts      -0.0396      0.046     -0.853      0.394      -0.131       0.051\n",
            "HasCrCard          -0.0279      0.059     -0.475      0.635      -0.143       0.087\n",
            "IsActiveMember     -1.0805      0.057    -18.874      0.000      -1.193      -0.968\n",
            "EstimatedSalary  4.963e-07    4.7e-07      1.056      0.291   -4.25e-07    1.42e-06\n",
            "===================================================================================\n"
          ]
        }
      ]
    },
    {
      "cell_type": "markdown",
      "metadata": {
        "id": "s_IoB5RCJqGu"
      },
      "source": [
        "### Features we got from Logistic Regression (i.e., p < 0.05)"
      ]
    },
    {
      "cell_type": "markdown",
      "metadata": {
        "id": "LRX_AP1jJqGu"
      },
      "source": [
        "| Feature | p-value |\n",
        "| --- | --- |\n",
        "| CreditScore | 0.017 |\n",
        "| Geography | 0.010 |\n",
        "| Gender | 0.000 |\n",
        "| Age | 0.000 |\n",
        "| Balance | 0.000 |\n",
        "| IsActiveMember | 0.000 |\n",
        "| constant | 0.000 |"
      ]
    },
    {
      "cell_type": "markdown",
      "metadata": {
        "id": "6Sq159KpJqGv"
      },
      "source": [
        "# Notes-\n",
        "\n",
        "#### The same rules from OLS Regression applies for Logistic Regression with a slight change where the t-value is replaced with z-value."
      ]
    },
    {
      "cell_type": "code",
      "metadata": {
        "colab": {
          "base_uri": "https://localhost:8080/"
        },
        "id": "5GucoNhlJqGw",
        "outputId": "ceb17941-c05e-4afe-f06a-d5018d878a8d"
      },
      "source": [
        "mod = sm.Logit(y, X_vars)\n",
        "res = mod.fit(method = 'powell')\n",
        "print(res.summary())"
      ],
      "execution_count": 34,
      "outputs": [
        {
          "output_type": "stream",
          "name": "stderr",
          "text": [
            "/usr/local/lib/python3.7/dist-packages/statsmodels/discrete/discrete_model.py:1736: RuntimeWarning: overflow encountered in exp\n",
            "  return 1/(1+np.exp(-X))\n",
            "/usr/local/lib/python3.7/dist-packages/statsmodels/discrete/discrete_model.py:1789: RuntimeWarning: divide by zero encountered in log\n",
            "  return np.sum(np.log(self.cdf(q*np.dot(X,params))))\n",
            "/usr/local/lib/python3.7/dist-packages/scipy/optimize/optimize.py:1985: RuntimeWarning: invalid value encountered in double_scalars\n",
            "  tmp2 = (x - v) * (fx - fw)\n",
            "/usr/local/lib/python3.7/dist-packages/scipy/optimize/optimize.py:1986: RuntimeWarning: invalid value encountered in double_scalars\n",
            "  p = (x - v) * tmp2 - (x - w) * tmp1\n"
          ]
        },
        {
          "output_type": "stream",
          "name": "stdout",
          "text": [
            "Optimization terminated successfully.\n",
            "         Current function value: 0.435025\n",
            "         Iterations: 18\n",
            "         Function evaluations: 2594\n",
            "                           Logit Regression Results                           \n",
            "==============================================================================\n",
            "Dep. Variable:                 Exited   No. Observations:                10000\n",
            "Model:                          Logit   Df Residuals:                     9989\n",
            "Method:                           MLE   Df Model:                           10\n",
            "Date:                Fri, 03 Dec 2021   Pseudo R-squ.:                  0.1394\n",
            "Time:                        21:32:40   Log-Likelihood:                -4350.2\n",
            "converged:                       True   LL-Null:                       -5054.9\n",
            "Covariance Type:            nonrobust   LLR p-value:                9.793e-297\n",
            "===================================================================================\n",
            "                      coef    std err          z      P>|z|      [0.025      0.975]\n",
            "-----------------------------------------------------------------------------------\n",
            "const              -3.4971      0.242    -14.437      0.000      -3.972      -3.022\n",
            "CreditScore        -0.0007      0.000     -2.643      0.008      -0.001      -0.000\n",
            "Geography           0.0977      0.033      2.960      0.003       0.033       0.162\n",
            "Gender             -0.5421      0.054    -10.044      0.000      -0.648      -0.436\n",
            "Age                 0.0720      0.003     28.279      0.000       0.067       0.077\n",
            "Tenure             -0.0114      0.009     -1.228      0.219      -0.030       0.007\n",
            "Balance          5.104e-06   4.61e-07     11.065      0.000     4.2e-06    6.01e-06\n",
            "NumOfProducts      -0.0352      0.046     -0.759      0.448      -0.126       0.056\n",
            "HasCrCard          -0.0079      0.059     -0.134      0.894      -0.123       0.107\n",
            "IsActiveMember     -1.0738      0.057    -18.782      0.000      -1.186      -0.962\n",
            "EstimatedSalary  4.196e-07    4.7e-07      0.893      0.372   -5.01e-07    1.34e-06\n",
            "===================================================================================\n"
          ]
        }
      ]
    },
    {
      "cell_type": "code",
      "metadata": {
        "id": "byfTs_TEJqGw"
      },
      "source": [
        ""
      ],
      "execution_count": null,
      "outputs": []
    },
    {
      "cell_type": "code",
      "metadata": {
        "id": "FNMFM5qFJqGw"
      },
      "source": [
        ""
      ],
      "execution_count": null,
      "outputs": []
    },
    {
      "cell_type": "code",
      "metadata": {
        "id": "nxsMbF4SJqGw"
      },
      "source": [
        ""
      ],
      "execution_count": null,
      "outputs": []
    },
    {
      "cell_type": "code",
      "metadata": {
        "id": "pS_FyYHVJqGw"
      },
      "source": [
        ""
      ],
      "execution_count": null,
      "outputs": []
    },
    {
      "cell_type": "code",
      "metadata": {
        "id": "JTZAoUr6JqGx"
      },
      "source": [
        "X = df.drop('Exited', axis=1)\n",
        "X = X[['CreditScore', 'Geography', 'Gender', 'Age', 'Balance', 'IsActiveMember']]\n",
        "y = df['Exited']"
      ],
      "execution_count": 35,
      "outputs": []
    },
    {
      "cell_type": "code",
      "metadata": {
        "id": "kM7FpJYuJqGx",
        "colab": {
          "base_uri": "https://localhost:8080/",
          "height": 206
        },
        "outputId": "8fb0e8a8-c9ee-4741-b6ab-77adf7245af8"
      },
      "source": [
        "X.head()"
      ],
      "execution_count": 36,
      "outputs": [
        {
          "output_type": "execute_result",
          "data": {
            "text/html": [
              "<div>\n",
              "<style scoped>\n",
              "    .dataframe tbody tr th:only-of-type {\n",
              "        vertical-align: middle;\n",
              "    }\n",
              "\n",
              "    .dataframe tbody tr th {\n",
              "        vertical-align: top;\n",
              "    }\n",
              "\n",
              "    .dataframe thead th {\n",
              "        text-align: right;\n",
              "    }\n",
              "</style>\n",
              "<table border=\"1\" class=\"dataframe\">\n",
              "  <thead>\n",
              "    <tr style=\"text-align: right;\">\n",
              "      <th></th>\n",
              "      <th>CreditScore</th>\n",
              "      <th>Geography</th>\n",
              "      <th>Gender</th>\n",
              "      <th>Age</th>\n",
              "      <th>Balance</th>\n",
              "      <th>IsActiveMember</th>\n",
              "    </tr>\n",
              "  </thead>\n",
              "  <tbody>\n",
              "    <tr>\n",
              "      <th>0</th>\n",
              "      <td>619</td>\n",
              "      <td>0</td>\n",
              "      <td>0</td>\n",
              "      <td>42</td>\n",
              "      <td>0.00</td>\n",
              "      <td>1</td>\n",
              "    </tr>\n",
              "    <tr>\n",
              "      <th>1</th>\n",
              "      <td>608</td>\n",
              "      <td>2</td>\n",
              "      <td>0</td>\n",
              "      <td>41</td>\n",
              "      <td>83807.86</td>\n",
              "      <td>1</td>\n",
              "    </tr>\n",
              "    <tr>\n",
              "      <th>2</th>\n",
              "      <td>502</td>\n",
              "      <td>0</td>\n",
              "      <td>0</td>\n",
              "      <td>42</td>\n",
              "      <td>159660.80</td>\n",
              "      <td>0</td>\n",
              "    </tr>\n",
              "    <tr>\n",
              "      <th>3</th>\n",
              "      <td>699</td>\n",
              "      <td>0</td>\n",
              "      <td>0</td>\n",
              "      <td>39</td>\n",
              "      <td>0.00</td>\n",
              "      <td>0</td>\n",
              "    </tr>\n",
              "    <tr>\n",
              "      <th>4</th>\n",
              "      <td>850</td>\n",
              "      <td>2</td>\n",
              "      <td>0</td>\n",
              "      <td>43</td>\n",
              "      <td>125510.82</td>\n",
              "      <td>1</td>\n",
              "    </tr>\n",
              "  </tbody>\n",
              "</table>\n",
              "</div>"
            ],
            "text/plain": [
              "   CreditScore  Geography  Gender  Age    Balance  IsActiveMember\n",
              "0          619          0       0   42       0.00               1\n",
              "1          608          2       0   41   83807.86               1\n",
              "2          502          0       0   42  159660.80               0\n",
              "3          699          0       0   39       0.00               0\n",
              "4          850          2       0   43  125510.82               1"
            ]
          },
          "metadata": {},
          "execution_count": 36
        }
      ]
    },
    {
      "cell_type": "code",
      "metadata": {
        "id": "kd2VZLHUJqGx"
      },
      "source": [
        "X_train, X_test, y_train, y_test = train_test_split(X, y, test_size=0.25, random_state=11)"
      ],
      "execution_count": 37,
      "outputs": []
    },
    {
      "cell_type": "code",
      "metadata": {
        "id": "yLPGBybiJqGx"
      },
      "source": [
        ""
      ],
      "execution_count": null,
      "outputs": []
    },
    {
      "cell_type": "markdown",
      "metadata": {
        "id": "qLgClgL4JqGx"
      },
      "source": [
        "# Logistic Regression"
      ]
    },
    {
      "cell_type": "code",
      "metadata": {
        "id": "o-KimsPsJqGy",
        "colab": {
          "base_uri": "https://localhost:8080/"
        },
        "outputId": "3f5c1bc4-1dab-4e48-c52f-090a27f9e476"
      },
      "source": [
        "from sklearn.linear_model import LogisticRegression\n",
        "\n",
        "lr =  LogisticRegression(random_state = 11)\n",
        "lr.fit(X_train, y_train)\n",
        "y_pred = lr.predict(X_test)\n",
        "\n",
        "print(confusion_matrix(y_test, y_pred))\n",
        "print(classification_report(y_test, y_pred))\n",
        "\n",
        "lr_score = round(lr.score(X_train, y_train) * 100, 2)\n",
        "lr_score_test = round(lr.score(X_test, y_test) * 100, 2)\n",
        "print('Score: \\n', lr_score)\n",
        "print('Test Score: \\n', lr_score_test)\n",
        "print('Accuracy: \\n', accuracy_score(y_test, y_pred))"
      ],
      "execution_count": 38,
      "outputs": [
        {
          "output_type": "stream",
          "name": "stdout",
          "text": [
            "[[1931   50]\n",
            " [ 486   33]]\n",
            "              precision    recall  f1-score   support\n",
            "\n",
            "           0       0.80      0.97      0.88      1981\n",
            "           1       0.40      0.06      0.11       519\n",
            "\n",
            "    accuracy                           0.79      2500\n",
            "   macro avg       0.60      0.52      0.49      2500\n",
            "weighted avg       0.72      0.79      0.72      2500\n",
            "\n",
            "Score: \n",
            " 79.13\n",
            "Test Score: \n",
            " 78.56\n",
            "Accuracy: \n",
            " 0.7856\n"
          ]
        }
      ]
    },
    {
      "cell_type": "markdown",
      "metadata": {
        "id": "le_kzqv-JqGy"
      },
      "source": [
        "### GridSearch CV"
      ]
    },
    {
      "cell_type": "code",
      "metadata": {
        "id": "JhDJIjbxJqGy",
        "colab": {
          "base_uri": "https://localhost:8080/"
        },
        "outputId": "fb0daeba-6b31-4f43-b7a7-b69cead59e69"
      },
      "source": [
        "kfold = StratifiedKFold(n_splits=5)\n",
        "\n",
        "param_grid = [\n",
        "    {'penalty' : ['l1', 'l2'],\n",
        "    'C': np.logspace(-4, 4, 20),\n",
        "    'solver' : ['lbfgs','newton-cg','liblinear','sag','saga'],\n",
        "    'max_iter' : [100, 1000,2500, 5000]}\n",
        "]\n",
        "\n",
        "lr_gscv = GridSearchCV(lr, param_grid = param_grid, cv = kfold, verbose=True, n_jobs=-1)\n",
        "best_lr_gscv = lr_gscv.fit(X_train, y_train)\n",
        "\n",
        "print(best_lr_gscv.best_estimator_.get_params(), '\\n')\n",
        "print('Model accuracy is',best_lr_gscv.score(X_test, y_test))"
      ],
      "execution_count": 39,
      "outputs": [
        {
          "output_type": "stream",
          "name": "stdout",
          "text": [
            "Fitting 5 folds for each of 800 candidates, totalling 4000 fits\n",
            "{'C': 0.03359818286283781, 'class_weight': None, 'dual': False, 'fit_intercept': True, 'intercept_scaling': 1, 'l1_ratio': None, 'max_iter': 100, 'multi_class': 'auto', 'n_jobs': None, 'penalty': 'l1', 'random_state': 11, 'solver': 'liblinear', 'tol': 0.0001, 'verbose': 0, 'warm_start': False} \n",
            "\n",
            "Model accuracy is 0.8032\n"
          ]
        },
        {
          "output_type": "stream",
          "name": "stderr",
          "text": [
            "/usr/local/lib/python3.7/dist-packages/sklearn/model_selection/_validation.py:372: FitFailedWarning: \n",
            "1200 fits failed out of a total of 4000.\n",
            "The score on these train-test partitions for these parameters will be set to nan.\n",
            "If these failures are not expected, you can try to debug them by setting error_score='raise'.\n",
            "\n",
            "Below are more details about the failures:\n",
            "--------------------------------------------------------------------------------\n",
            "400 fits failed with the following error:\n",
            "Traceback (most recent call last):\n",
            "  File \"/usr/local/lib/python3.7/dist-packages/sklearn/model_selection/_validation.py\", line 681, in _fit_and_score\n",
            "    estimator.fit(X_train, y_train, **fit_params)\n",
            "  File \"/usr/local/lib/python3.7/dist-packages/sklearn/linear_model/_logistic.py\", line 1461, in fit\n",
            "    solver = _check_solver(self.solver, self.penalty, self.dual)\n",
            "  File \"/usr/local/lib/python3.7/dist-packages/sklearn/linear_model/_logistic.py\", line 449, in _check_solver\n",
            "    % (solver, penalty)\n",
            "ValueError: Solver lbfgs supports only 'l2' or 'none' penalties, got l1 penalty.\n",
            "\n",
            "--------------------------------------------------------------------------------\n",
            "400 fits failed with the following error:\n",
            "Traceback (most recent call last):\n",
            "  File \"/usr/local/lib/python3.7/dist-packages/sklearn/model_selection/_validation.py\", line 681, in _fit_and_score\n",
            "    estimator.fit(X_train, y_train, **fit_params)\n",
            "  File \"/usr/local/lib/python3.7/dist-packages/sklearn/linear_model/_logistic.py\", line 1461, in fit\n",
            "    solver = _check_solver(self.solver, self.penalty, self.dual)\n",
            "  File \"/usr/local/lib/python3.7/dist-packages/sklearn/linear_model/_logistic.py\", line 449, in _check_solver\n",
            "    % (solver, penalty)\n",
            "ValueError: Solver newton-cg supports only 'l2' or 'none' penalties, got l1 penalty.\n",
            "\n",
            "--------------------------------------------------------------------------------\n",
            "400 fits failed with the following error:\n",
            "Traceback (most recent call last):\n",
            "  File \"/usr/local/lib/python3.7/dist-packages/sklearn/model_selection/_validation.py\", line 681, in _fit_and_score\n",
            "    estimator.fit(X_train, y_train, **fit_params)\n",
            "  File \"/usr/local/lib/python3.7/dist-packages/sklearn/linear_model/_logistic.py\", line 1461, in fit\n",
            "    solver = _check_solver(self.solver, self.penalty, self.dual)\n",
            "  File \"/usr/local/lib/python3.7/dist-packages/sklearn/linear_model/_logistic.py\", line 449, in _check_solver\n",
            "    % (solver, penalty)\n",
            "ValueError: Solver sag supports only 'l2' or 'none' penalties, got l1 penalty.\n",
            "\n",
            "  warnings.warn(some_fits_failed_message, FitFailedWarning)\n",
            "/usr/local/lib/python3.7/dist-packages/sklearn/model_selection/_search.py:972: UserWarning: One or more of the test scores are non-finite: [       nan        nan 0.7976            nan 0.7976     0.79306667\n",
            " 0.782      0.79333333 0.7976     0.7976            nan        nan\n",
            " 0.7976            nan 0.7976     0.79306667 0.782      0.79333333\n",
            " 0.7976     0.7976            nan        nan 0.7976            nan\n",
            " 0.7976     0.79306667 0.782      0.79333333 0.7976     0.7976\n",
            "        nan        nan 0.7976            nan 0.7976     0.79306667\n",
            " 0.782      0.79333333 0.7976     0.7976            nan        nan\n",
            " 0.79786667        nan 0.7976     0.79266667 0.7816     0.79306667\n",
            " 0.7976     0.7976            nan        nan 0.79786667        nan\n",
            " 0.7976     0.79266667 0.7816     0.79306667 0.7976     0.7976\n",
            "        nan        nan 0.79786667        nan 0.7976     0.79266667\n",
            " 0.7816     0.79306667 0.7976     0.7976            nan        nan\n",
            " 0.79786667        nan 0.7976     0.79266667 0.7816     0.79306667\n",
            " 0.7976     0.7976            nan        nan 0.7964            nan\n",
            " 0.7976     0.792      0.78386667 0.79333333 0.7976     0.7976\n",
            "        nan        nan 0.7964            nan 0.7976     0.792\n",
            " 0.78386667 0.79333333 0.7976     0.7976            nan        nan\n",
            " 0.7964            nan 0.7976     0.792      0.78386667 0.79333333\n",
            " 0.7976     0.7976            nan        nan 0.7964            nan\n",
            " 0.7976     0.792      0.78386667 0.79333333 0.7976     0.7976\n",
            "        nan        nan 0.79453333        nan 0.7976     0.79146667\n",
            " 0.78866667 0.79293333 0.7976     0.7976            nan        nan\n",
            " 0.79453333        nan 0.7976     0.79146667 0.7884     0.79293333\n",
            " 0.7976     0.7976            nan        nan 0.79453333        nan\n",
            " 0.7976     0.79146667 0.7884     0.79293333 0.7976     0.7976\n",
            "        nan        nan 0.79453333        nan 0.7976     0.79146667\n",
            " 0.7884     0.79293333 0.7976     0.7976            nan        nan\n",
            " 0.79453333        nan 0.7976     0.7912     0.7956     0.7928\n",
            " 0.7976     0.7976            nan        nan 0.79453333        nan\n",
            " 0.7976     0.7912     0.7952     0.7928     0.7976     0.7976\n",
            "        nan        nan 0.79453333        nan 0.7976     0.7912\n",
            " 0.7952     0.7928     0.7976     0.7976            nan        nan\n",
            " 0.79453333        nan 0.7976     0.7912     0.7952     0.7928\n",
            " 0.7976     0.7976            nan        nan 0.80546667        nan\n",
            " 0.7976     0.7912     0.79973333 0.79266667 0.7976     0.7976\n",
            "        nan        nan 0.80546667        nan 0.7976     0.7912\n",
            " 0.79973333 0.79266667 0.7976     0.7976            nan        nan\n",
            " 0.80546667        nan 0.7976     0.7912     0.79973333 0.79266667\n",
            " 0.7976     0.7976            nan        nan 0.80546667        nan\n",
            " 0.7976     0.7912     0.79973333 0.79266667 0.7976     0.7976\n",
            "        nan        nan 0.80866667        nan 0.7976     0.7912\n",
            " 0.8024     0.79253333 0.7976     0.7976            nan        nan\n",
            " 0.80866667        nan 0.7976     0.7912     0.802      0.79253333\n",
            " 0.7976     0.7976            nan        nan 0.80866667        nan\n",
            " 0.7976     0.7912     0.802      0.79253333 0.7976     0.7976\n",
            "        nan        nan 0.80866667        nan 0.7976     0.7912\n",
            " 0.802      0.79253333 0.7976     0.7976            nan        nan\n",
            " 0.8068            nan 0.7976     0.7912     0.8048     0.79253333\n",
            " 0.7976     0.7976            nan        nan 0.8068            nan\n",
            " 0.7976     0.7912     0.80466667 0.79253333 0.7976     0.7976\n",
            "        nan        nan 0.8068            nan 0.7976     0.7912\n",
            " 0.80466667 0.79253333 0.7976     0.7976            nan        nan\n",
            " 0.8068            nan 0.7976     0.7912     0.80466667 0.79253333\n",
            " 0.7976     0.7976            nan        nan 0.8064            nan\n",
            " 0.7976     0.7912     0.80586667 0.79253333 0.7976     0.7976\n",
            "        nan        nan 0.8064            nan 0.7976     0.7912\n",
            " 0.80573333 0.79253333 0.7976     0.7976            nan        nan\n",
            " 0.8064            nan 0.7976     0.7912     0.80573333 0.79253333\n",
            " 0.7976     0.7976            nan        nan 0.8064            nan\n",
            " 0.7976     0.7912     0.80573333 0.79253333 0.7976     0.7976\n",
            "        nan        nan 0.80666667        nan 0.7976     0.7912\n",
            " 0.80626667 0.79253333 0.7976     0.7976            nan        nan\n",
            " 0.80666667        nan 0.7976     0.7912     0.80573333 0.79253333\n",
            " 0.7976     0.7976            nan        nan 0.80666667        nan\n",
            " 0.7976     0.7912     0.80573333 0.79253333 0.7976     0.7976\n",
            "        nan        nan 0.80666667        nan 0.7976     0.7912\n",
            " 0.80573333 0.79253333 0.7976     0.7976            nan        nan\n",
            " 0.8064            nan 0.7976     0.7912     0.80586667 0.79253333\n",
            " 0.7976     0.7976            nan        nan 0.8064            nan\n",
            " 0.7976     0.7912     0.806      0.79253333 0.7976     0.7976\n",
            "        nan        nan 0.8064            nan 0.7976     0.7912\n",
            " 0.806      0.79253333 0.7976     0.7976            nan        nan\n",
            " 0.8064            nan 0.7976     0.7912     0.806      0.79253333\n",
            " 0.7976     0.7976            nan        nan 0.8072            nan\n",
            " 0.7976     0.7912     0.80653333 0.79253333 0.7976     0.7976\n",
            "        nan        nan 0.8072            nan 0.7976     0.7912\n",
            " 0.806      0.79253333 0.7976     0.7976            nan        nan\n",
            " 0.8072            nan 0.7976     0.7912     0.806      0.79253333\n",
            " 0.7976     0.7976            nan        nan 0.8072            nan\n",
            " 0.7976     0.7912     0.806      0.79253333 0.7976     0.7976\n",
            "        nan        nan 0.80613333        nan 0.7976     0.7912\n",
            " 0.80693333 0.79253333 0.7976     0.7976            nan        nan\n",
            " 0.80613333        nan 0.7976     0.7912     0.806      0.79253333\n",
            " 0.7976     0.7976            nan        nan 0.80613333        nan\n",
            " 0.7976     0.7912     0.806      0.79253333 0.7976     0.7976\n",
            "        nan        nan 0.80613333        nan 0.7976     0.7912\n",
            " 0.806      0.79253333 0.7976     0.7976            nan        nan\n",
            " 0.80613333        nan 0.7976     0.7912     0.80706667 0.79253333\n",
            " 0.7976     0.7976            nan        nan 0.80613333        nan\n",
            " 0.7976     0.7912     0.80626667 0.79253333 0.7976     0.7976\n",
            "        nan        nan 0.80613333        nan 0.7976     0.7912\n",
            " 0.80626667 0.79253333 0.7976     0.7976            nan        nan\n",
            " 0.80613333        nan 0.7976     0.7912     0.80626667 0.79253333\n",
            " 0.7976     0.7976            nan        nan 0.80613333        nan\n",
            " 0.7976     0.7912     0.80653333 0.79213333 0.7976     0.7976\n",
            "        nan        nan 0.80613333        nan 0.7976     0.7912\n",
            " 0.80613333 0.79213333 0.7976     0.7976            nan        nan\n",
            " 0.80613333        nan 0.7976     0.7912     0.80613333 0.79213333\n",
            " 0.7976     0.7976            nan        nan 0.80613333        nan\n",
            " 0.7976     0.7912     0.80613333 0.79213333 0.7976     0.7976\n",
            "        nan        nan 0.80613333        nan 0.7976     0.7912\n",
            " 0.8068     0.79253333 0.7976     0.7976            nan        nan\n",
            " 0.80613333        nan 0.7976     0.7912     0.80626667 0.79253333\n",
            " 0.7976     0.7976            nan        nan 0.80613333        nan\n",
            " 0.7976     0.7912     0.80626667 0.79253333 0.7976     0.7976\n",
            "        nan        nan 0.80613333        nan 0.7976     0.7912\n",
            " 0.80626667 0.79253333 0.7976     0.7976            nan        nan\n",
            " 0.80613333        nan 0.7976     0.7912     0.80666667 0.79253333\n",
            " 0.7976     0.7976            nan        nan 0.80613333        nan\n",
            " 0.7976     0.7912     0.80613333 0.79253333 0.7976     0.7976\n",
            "        nan        nan 0.80613333        nan 0.7976     0.7912\n",
            " 0.80613333 0.79253333 0.7976     0.7976            nan        nan\n",
            " 0.80613333        nan 0.7976     0.7912     0.80613333 0.79253333\n",
            " 0.7976     0.7976            nan        nan 0.80613333        nan\n",
            " 0.7976     0.7912     0.8068     0.79253333 0.7976     0.7976\n",
            "        nan        nan 0.80613333        nan 0.7976     0.7912\n",
            " 0.80613333 0.79253333 0.7976     0.7976            nan        nan\n",
            " 0.80613333        nan 0.7976     0.7912     0.80613333 0.79253333\n",
            " 0.7976     0.7976            nan        nan 0.80613333        nan\n",
            " 0.7976     0.7912     0.80613333 0.79253333 0.7976     0.7976\n",
            "        nan        nan 0.80613333        nan 0.7976     0.7912\n",
            " 0.80693333 0.79253333 0.7976     0.7976            nan        nan\n",
            " 0.80613333        nan 0.7976     0.7912     0.80613333 0.79253333\n",
            " 0.7976     0.7976            nan        nan 0.80613333        nan\n",
            " 0.7976     0.7912     0.80613333 0.79253333 0.7976     0.7976\n",
            "        nan        nan 0.80613333        nan 0.7976     0.7912\n",
            " 0.80613333 0.79253333 0.7976     0.7976            nan        nan\n",
            " 0.80613333        nan 0.7976     0.7912     0.80693333 0.79253333\n",
            " 0.7976     0.7976            nan        nan 0.80613333        nan\n",
            " 0.7976     0.7912     0.806      0.79253333 0.7976     0.7976\n",
            "        nan        nan 0.80613333        nan 0.7976     0.7912\n",
            " 0.806      0.79253333 0.7976     0.7976            nan        nan\n",
            " 0.80613333        nan 0.7976     0.7912     0.806      0.79253333\n",
            " 0.7976     0.7976    ]\n",
            "  category=UserWarning,\n"
          ]
        }
      ]
    },
    {
      "cell_type": "code",
      "metadata": {
        "id": "S97txaaqJqGy",
        "colab": {
          "base_uri": "https://localhost:8080/"
        },
        "outputId": "bc627d61-a673-46d2-e368-56ec3994db6b"
      },
      "source": [
        "import sklearn.metrics as metrics\n",
        "\n",
        "probs = best_lr_gscv.predict_proba(X_test)\n",
        "preds = probs[:,1]\n",
        "\n",
        "fpr, tpr, threshold = metrics.roc_curve(y_test, preds)\n",
        "roc_auc = metrics.auc(fpr, tpr)\n",
        "\n",
        "classes = best_lr_gscv.predict(X_test)\n",
        "    \n",
        "accuracy = metrics.accuracy_score(classes, y_test)\n",
        "    \n",
        "balanced_accuracy = metrics.balanced_accuracy_score(classes, y_test)\n",
        "\n",
        "precision = metrics.precision_score(classes, y_test)\n",
        "    \n",
        "average_precision = metrics.average_precision_score(classes, y_test)\n",
        "    \n",
        "f1_score = metrics.f1_score(classes, y_test)\n",
        "    \n",
        "recall = metrics.recall_score(classes, y_test)\n",
        "\n",
        "print (\"\\n Accuracy          : \", accuracy, \"\\n Balanced Accuracy : \", balanced_accuracy, \"\\n Precision         : \", precision, \"\\n Average Precision : \", average_precision, \"\\n F1-Score          : \", f1_score, \"\\n Recall            : \", recall, \"\\n ROC-AUC           : \", roc_auc, \"\\n\")\n",
        "\n",
        "print(metrics.classification_report(classes, y_test))"
      ],
      "execution_count": 40,
      "outputs": [
        {
          "output_type": "stream",
          "name": "stdout",
          "text": [
            "\n",
            " Accuracy          :  0.8032 \n",
            " Balanced Accuracy :  0.713064562238167 \n",
            " Precision         :  0.14065510597302505 \n",
            " Average Precision :  0.10468422467252798 \n",
            " F1-Score          :  0.22884012539184956 \n",
            " Recall            :  0.6134453781512605 \n",
            " ROC-AUC           :  0.7631224960827282 \n",
            "\n",
            "              precision    recall  f1-score   support\n",
            "\n",
            "           0       0.98      0.81      0.89      2381\n",
            "           1       0.14      0.61      0.23       119\n",
            "\n",
            "    accuracy                           0.80      2500\n",
            "   macro avg       0.56      0.71      0.56      2500\n",
            "weighted avg       0.94      0.80      0.86      2500\n",
            "\n"
          ]
        }
      ]
    },
    {
      "cell_type": "code",
      "metadata": {
        "id": "I6H4OOpkJqGz"
      },
      "source": [
        ""
      ],
      "execution_count": null,
      "outputs": []
    },
    {
      "cell_type": "code",
      "metadata": {
        "id": "sVGq5PguJqGz"
      },
      "source": [
        ""
      ],
      "execution_count": null,
      "outputs": []
    },
    {
      "cell_type": "markdown",
      "metadata": {
        "id": "mqMNH_rBJqGz"
      },
      "source": [
        "# Random Forest"
      ]
    },
    {
      "cell_type": "code",
      "metadata": {
        "id": "_p4HtNnvJqGz",
        "colab": {
          "base_uri": "https://localhost:8080/"
        },
        "outputId": "562f63d4-30f1-48f4-9a05-d6c2c7b8a23c"
      },
      "source": [
        "clf_rfc = RandomForestClassifier(n_estimators=100)\n",
        "clf_rfc.fit(X_train, y_train)\n",
        "clf_rfc.predict(X_test)\n",
        "print('Accuracy: {:.2f}'.format(clf_rfc.score(X_test, y_test)))"
      ],
      "execution_count": 41,
      "outputs": [
        {
          "output_type": "stream",
          "name": "stdout",
          "text": [
            "Accuracy: 0.81\n"
          ]
        }
      ]
    },
    {
      "cell_type": "code",
      "metadata": {
        "id": "yk453mK4JqGz"
      },
      "source": [
        ""
      ],
      "execution_count": null,
      "outputs": []
    },
    {
      "cell_type": "code",
      "metadata": {
        "id": "lv_kfsHDJqG0",
        "colab": {
          "base_uri": "https://localhost:8080/"
        },
        "outputId": "0ec1ceca-325b-4b84-ae6a-f7ff44453be7"
      },
      "source": [
        "from sklearn.ensemble import RandomForestClassifier\n",
        "\n",
        "rfc = RandomForestClassifier(random_state = 11)\n",
        "rfc.fit(X_train, y_train)\n",
        "y_pred = rfc.predict(X_test)\n",
        "\n",
        "print(confusion_matrix(y_test, y_pred))\n",
        "print(classification_report(y_test, y_pred))\n",
        "\n",
        "rfc_score = round(rfc.score(X_train, y_train) * 100, 2)\n",
        "rfc_score_test = round(rfc.score(X_test, y_test) * 100, 2)\n",
        "print('Score: \\n', rfc_score)\n",
        "print('Test Score: \\n', rfc_score_test)\n",
        "print('Accuracy: \\n', accuracy_score(y_test, y_pred))"
      ],
      "execution_count": 42,
      "outputs": [
        {
          "output_type": "stream",
          "name": "stdout",
          "text": [
            "[[1825  156]\n",
            " [ 315  204]]\n",
            "              precision    recall  f1-score   support\n",
            "\n",
            "           0       0.85      0.92      0.89      1981\n",
            "           1       0.57      0.39      0.46       519\n",
            "\n",
            "    accuracy                           0.81      2500\n",
            "   macro avg       0.71      0.66      0.67      2500\n",
            "weighted avg       0.79      0.81      0.80      2500\n",
            "\n",
            "Score: \n",
            " 99.92\n",
            "Test Score: \n",
            " 81.16\n",
            "Accuracy: \n",
            " 0.8116\n"
          ]
        }
      ]
    },
    {
      "cell_type": "markdown",
      "metadata": {
        "id": "wGpnZKCrJqG0"
      },
      "source": [
        "### GridSearch CV"
      ]
    },
    {
      "cell_type": "code",
      "metadata": {
        "id": "Mudp8k23JqG1",
        "colab": {
          "base_uri": "https://localhost:8080/"
        },
        "outputId": "d5ff7df1-3a99-449a-ba22-f3bc8b7687d4"
      },
      "source": [
        "kfold = StratifiedKFold(n_splits=5)\n",
        "\n",
        "param_grid = [\n",
        "    {'criterion':['gini','entropy'],\n",
        "          'n_estimators':[10,15,20,25,30],\n",
        "          'min_samples_leaf':[1,2,3],\n",
        "          'min_samples_split':[3,4,5,6,7], \n",
        "          'random_state':[123],\n",
        "          'n_jobs':[-1]}\n",
        "]\n",
        "\n",
        "rfc_gscv = GridSearchCV(rfc, param_grid = param_grid, cv = kfold, verbose=True, n_jobs=-1)\n",
        "best_rfc_gscv = rfc_gscv.fit(X_train, y_train)\n",
        "\n",
        "print(best_rfc_gscv.best_estimator_.get_params(), '\\n')\n",
        "print('Model accuracy is',best_rfc_gscv.score(X_test, y_test))"
      ],
      "execution_count": 43,
      "outputs": [
        {
          "output_type": "stream",
          "name": "stdout",
          "text": [
            "Fitting 5 folds for each of 150 candidates, totalling 750 fits\n",
            "{'bootstrap': True, 'ccp_alpha': 0.0, 'class_weight': None, 'criterion': 'gini', 'max_depth': None, 'max_features': 'auto', 'max_leaf_nodes': None, 'max_samples': None, 'min_impurity_decrease': 0.0, 'min_samples_leaf': 3, 'min_samples_split': 7, 'min_weight_fraction_leaf': 0.0, 'n_estimators': 25, 'n_jobs': -1, 'oob_score': False, 'random_state': 123, 'verbose': 0, 'warm_start': False} \n",
            "\n",
            "Model accuracy is 0.8256\n"
          ]
        }
      ]
    },
    {
      "cell_type": "code",
      "metadata": {
        "id": "srmtzgH2JqG2",
        "colab": {
          "base_uri": "https://localhost:8080/"
        },
        "outputId": "1e05e3d8-e945-4b84-9527-a269eff8becb"
      },
      "source": [
        "import sklearn.metrics as metrics\n",
        "\n",
        "probs = best_rfc_gscv.predict_proba(X_test)\n",
        "preds = probs[:,1]\n",
        "\n",
        "fpr, tpr, threshold = metrics.roc_curve(y_test, preds)\n",
        "roc_auc = metrics.auc(fpr, tpr)\n",
        "\n",
        "classes = best_rfc_gscv.predict(X_test)\n",
        "    \n",
        "accuracy = metrics.accuracy_score(classes, y_test)\n",
        "    \n",
        "balanced_accuracy = metrics.balanced_accuracy_score(classes, y_test)\n",
        "\n",
        "precision = metrics.precision_score(classes, y_test)\n",
        "    \n",
        "average_precision = metrics.average_precision_score(classes, y_test)\n",
        "    \n",
        "f1_score = metrics.f1_score(classes, y_test)\n",
        "    \n",
        "recall = metrics.recall_score(classes, y_test)\n",
        "\n",
        "print (\"\\n Accuracy          : \", accuracy, \"\\n Balanced Accuracy : \", balanced_accuracy, \"\\n Precision         : \", precision, \"\\n Average Precision : \", average_precision, \"\\n F1-Score          : \", f1_score, \"\\n Recall            : \", recall, \"\\n ROC-AUC           : \", roc_auc, \"\\n\")\n",
        "\n",
        "print(metrics.classification_report(classes, y_test))"
      ],
      "execution_count": 44,
      "outputs": [
        {
          "output_type": "stream",
          "name": "stdout",
          "text": [
            "\n",
            " Accuracy          :  0.8256 \n",
            " Balanced Accuracy :  0.7445848989045156 \n",
            " Precision         :  0.3699421965317919 \n",
            " Average Precision :  0.27957641772127584 \n",
            " F1-Score          :  0.4682926829268292 \n",
            " Recall            :  0.6378737541528239 \n",
            " ROC-AUC           :  0.769772861451613 \n",
            "\n",
            "              precision    recall  f1-score   support\n",
            "\n",
            "           0       0.94      0.85      0.90      2199\n",
            "           1       0.37      0.64      0.47       301\n",
            "\n",
            "    accuracy                           0.83      2500\n",
            "   macro avg       0.66      0.74      0.68      2500\n",
            "weighted avg       0.88      0.83      0.84      2500\n",
            "\n"
          ]
        }
      ]
    },
    {
      "cell_type": "code",
      "metadata": {
        "id": "MfW74WBoJqG2"
      },
      "source": [
        ""
      ],
      "execution_count": null,
      "outputs": []
    },
    {
      "cell_type": "code",
      "metadata": {
        "id": "m6Ouj07zJqG3"
      },
      "source": [
        ""
      ],
      "execution_count": null,
      "outputs": []
    },
    {
      "cell_type": "markdown",
      "metadata": {
        "id": "QyhEmy9IJqG3"
      },
      "source": [
        "### Model-4 K Nearest Neighbors"
      ]
    },
    {
      "cell_type": "code",
      "metadata": {
        "id": "iOSkbbjTJqG3",
        "colab": {
          "base_uri": "https://localhost:8080/"
        },
        "outputId": "58ea9071-999f-4dfb-c6d6-47e494043bf9"
      },
      "source": [
        "from sklearn.neighbors import KNeighborsClassifier\n",
        "\n",
        "knn = KNeighborsClassifier()\n",
        "knn.fit(X_train,y_train)\n",
        "y_pred = knn.predict(X_test)\n",
        "\n",
        "print(confusion_matrix(y_test, y_pred))\n",
        "print(classification_report(y_test, y_pred))\n",
        "\n",
        "knn_score = round(knn.score(X_train, y_train) * 100, 2)\n",
        "knn_score_test = round(knn.score(X_test, y_test) * 100, 2)\n",
        "print('Score: \\n',knn_score)\n",
        "print('Test Score: \\n', knn_score_test)\n",
        "print('Accuracy: \\n', accuracy_score(y_test, y_pred))"
      ],
      "execution_count": 45,
      "outputs": [
        {
          "output_type": "stream",
          "name": "stdout",
          "text": [
            "[[1829  152]\n",
            " [ 459   60]]\n",
            "              precision    recall  f1-score   support\n",
            "\n",
            "           0       0.80      0.92      0.86      1981\n",
            "           1       0.28      0.12      0.16       519\n",
            "\n",
            "    accuracy                           0.76      2500\n",
            "   macro avg       0.54      0.52      0.51      2500\n",
            "weighted avg       0.69      0.76      0.71      2500\n",
            "\n",
            "Score: \n",
            " 82.08\n",
            "Test Score: \n",
            " 75.56\n",
            "Accuracy: \n",
            " 0.7556\n"
          ]
        }
      ]
    },
    {
      "cell_type": "code",
      "metadata": {
        "id": "54LiAz-HJqG4"
      },
      "source": [
        ""
      ],
      "execution_count": null,
      "outputs": []
    },
    {
      "cell_type": "markdown",
      "metadata": {
        "id": "aYlopS1rJqG4"
      },
      "source": [
        "### GridSearchCV"
      ]
    },
    {
      "cell_type": "code",
      "metadata": {
        "id": "Bwthb6nQJqG5",
        "colab": {
          "base_uri": "https://localhost:8080/"
        },
        "outputId": "9b0c1932-e9ba-4652-d83c-3c82edee5422"
      },
      "source": [
        "kfold = StratifiedKFold(n_splits=5)\n",
        "\n",
        "param_grid = [\n",
        "    {'n_neighbors':[3,5,11,19],\n",
        "          'weights':['uniform', 'distance'],\n",
        "          'metric':['euclidean', 'manhattan']\n",
        "          }\n",
        "]\n",
        "\n",
        "knn_gscv = GridSearchCV(knn, param_grid = param_grid, cv = kfold, verbose=True, n_jobs=-1)\n",
        "best_knn_gscv = knn_gscv.fit(X_train, y_train)\n",
        "\n",
        "print(best_knn_gscv.best_estimator_.get_params(), '\\n')\n",
        "print('Model accuracy is',best_knn_gscv.score(X_test, y_test))"
      ],
      "execution_count": 46,
      "outputs": [
        {
          "output_type": "stream",
          "name": "stdout",
          "text": [
            "Fitting 5 folds for each of 16 candidates, totalling 80 fits\n",
            "{'algorithm': 'auto', 'leaf_size': 30, 'metric': 'manhattan', 'metric_params': None, 'n_jobs': None, 'n_neighbors': 19, 'p': 2, 'weights': 'uniform'} \n",
            "\n",
            "Model accuracy is 0.7888\n"
          ]
        }
      ]
    },
    {
      "cell_type": "code",
      "metadata": {
        "id": "PLn2qkkgJqG5",
        "colab": {
          "base_uri": "https://localhost:8080/"
        },
        "outputId": "9f6ff662-2f69-46c8-aea1-e3ec62b3f557"
      },
      "source": [
        "import sklearn.metrics as metrics\n",
        "\n",
        "probs = best_knn_gscv.predict_proba(X_test)\n",
        "preds = probs[:,1]\n",
        "\n",
        "fpr, tpr, threshold = metrics.roc_curve(y_test, preds)\n",
        "roc_auc = metrics.auc(fpr, tpr)\n",
        "\n",
        "classes = best_knn_gscv.predict(X_test)\n",
        "    \n",
        "accuracy = metrics.accuracy_score(classes, y_test)\n",
        "    \n",
        "balanced_accuracy = metrics.balanced_accuracy_score(classes, y_test)\n",
        "\n",
        "precision = metrics.precision_score(classes, y_test)\n",
        "    \n",
        "average_precision = metrics.average_precision_score(classes, y_test)\n",
        "    \n",
        "f1_score = metrics.f1_score(classes, y_test)\n",
        "    \n",
        "recall = metrics.recall_score(classes, y_test)\n",
        "\n",
        "print (\"\\n Accuracy          : \", accuracy, \"\\n Balanced Accuracy : \", balanced_accuracy, \"\\n Precision         : \", precision, \"\\n Average Precision : \", average_precision, \"\\n F1-Score          : \", f1_score, \"\\n Recall            : \", recall, \"\\n ROC-AUC           : \", roc_auc, \"\\n\")\n",
        "\n",
        "print(metrics.classification_report(classes, y_test))"
      ],
      "execution_count": 47,
      "outputs": [
        {
          "output_type": "stream",
          "name": "stdout",
          "text": [
            "\n",
            " Accuracy          :  0.7888 \n",
            " Balanced Accuracy :  0.5866719338095708 \n",
            " Precision         :  0.02697495183044316 \n",
            " Average Precision :  0.01940673853043795 \n",
            " F1-Score          :  0.05035971223021582 \n",
            " Recall            :  0.3783783783783784 \n",
            " ROC-AUC           :  0.6126282535727173 \n",
            "\n",
            "              precision    recall  f1-score   support\n",
            "\n",
            "           0       0.99      0.79      0.88      2463\n",
            "           1       0.03      0.38      0.05        37\n",
            "\n",
            "    accuracy                           0.79      2500\n",
            "   macro avg       0.51      0.59      0.47      2500\n",
            "weighted avg       0.97      0.79      0.87      2500\n",
            "\n"
          ]
        }
      ]
    },
    {
      "cell_type": "code",
      "metadata": {
        "id": "UejMrPYAJqG5"
      },
      "source": [
        ""
      ],
      "execution_count": null,
      "outputs": []
    },
    {
      "cell_type": "code",
      "metadata": {
        "id": "Jl3yCc3JJqG6"
      },
      "source": [
        ""
      ],
      "execution_count": null,
      "outputs": []
    },
    {
      "cell_type": "markdown",
      "metadata": {
        "id": "MRU9xoBQJqG6"
      },
      "source": [
        "### Cross-validation"
      ]
    },
    {
      "cell_type": "code",
      "metadata": {
        "id": "-e2pxt0DJqG6",
        "colab": {
          "base_uri": "https://localhost:8080/"
        },
        "outputId": "4e6f75de-9a76-49d9-fde6-f6a7c5b0d315"
      },
      "source": [
        "import sklearn\n",
        "clfs = []\n",
        "print('5-fold cross validation:\\n')\n",
        "for clf, label in zip([lr, rfc, knn],\n",
        "                      ['Logistic Regression',\n",
        "                       'Random Forest',\n",
        "                       'K Nearest Neighbors']):\n",
        "    scores = sklearn.model_selection.cross_val_score(clf, X_train, y_train, cv=5, scoring=\"accuracy\")\n",
        "    print(\"Train CV Accuracy: %0.3f (+/- %0.3f) [%s]\" % (scores.mean(), scores.std(), label))\n",
        "    md = clf.fit(X_train, y_train)\n",
        "    clfs.append(md)\n",
        "    print(\"Test Accuracy: %0.4f \" % (sklearn.metrics.accuracy_score(clf.predict(X_test), y_test)))"
      ],
      "execution_count": 48,
      "outputs": [
        {
          "output_type": "stream",
          "name": "stdout",
          "text": [
            "5-fold cross validation:\n",
            "\n",
            "Train CV Accuracy: 0.791 (+/- 0.005) [Logistic Regression]\n",
            "Test Accuracy: 0.7856 \n",
            "Train CV Accuracy: 0.822 (+/- 0.009) [Random Forest]\n",
            "Test Accuracy: 0.8116 \n",
            "Train CV Accuracy: 0.766 (+/- 0.003) [K Nearest Neighbors]\n",
            "Test Accuracy: 0.7556 \n"
          ]
        }
      ]
    },
    {
      "cell_type": "code",
      "metadata": {
        "id": "RLV05vEpJqG6"
      },
      "source": [
        ""
      ],
      "execution_count": null,
      "outputs": []
    }
  ]
}